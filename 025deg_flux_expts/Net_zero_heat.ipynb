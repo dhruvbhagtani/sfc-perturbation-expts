{
 "cells": [
  {
   "cell_type": "markdown",
   "id": "7a9801d9-ff8f-421a-a35b-23eecbcf7119",
   "metadata": {},
   "source": [
    "# Dealing with heat flux mask"
   ]
  },
  {
   "cell_type": "markdown",
   "id": "78fe6317-9793-4752-bcde-49ed41a9c0f1",
   "metadata": {},
   "source": [
    "After creating the heat flux mask (refer: https://github.com/dhruvbhagtani/varying-surface-forcing/blob/main/025deg_flux_expts/SSH_or_streamfunction.ipynb), the next step is to ensure net zero heat input in the ocean. "
   ]
  },
  {
   "cell_type": "code",
   "execution_count": null,
   "id": "cfb38744-abb0-4496-8cd2-bcf3edaf44e1",
   "metadata": {},
   "outputs": [],
   "source": [
    "import cartopy.crs as ccrs\n",
    "import cosima_cookbook as cc\n",
    "import cartopy.feature as cfeature\n",
    "from cartopy.mpl.gridliner import LONGITUDE_FORMATTER, LATITUDE_FORMATTER\n",
    "import cmocean as cm\n",
    "from dask.distributed import Client\n",
    "import matplotlib.path as mpath\n",
    "import matplotlib.pyplot as plt\n",
    "import numpy as np\n",
    "import xarray as xr\n",
    "\n",
    "# Avoid the Runtime errors in true_divide encountered when trying to divide by zero\n",
    "import warnings\n",
    "warnings.filterwarnings('ignore', category = RuntimeWarning)\n",
    "warnings.filterwarnings('ignore', category = ResourceWarning)\n",
    "warnings.filterwarnings('ignore', category = BytesWarning)\n",
    "\n",
    "# matplotlib stuff:\n",
    "import matplotlib.pyplot as plt\n",
    "import matplotlib.colors as colors\n",
    "import matplotlib\n",
    "from mpl_toolkits.mplot3d import axes3d\n",
    "%matplotlib inline\n",
    "matplotlib.rcParams['mathtext.fontset'] = 'stix'\n",
    "matplotlib.rcParams['font.family'] = 'STIXGeneral'\n",
    "matplotlib.rcParams['lines.linewidth'] = 2.0\n",
    "matplotlib.rc('xtick', labelsize = 18) \n",
    "matplotlib.rc('ytick', labelsize = 18)\n",
    "\n",
    "import logging\n",
    "logger = logging.getLogger(\"distributed.utils_perf\")\n",
    "logger.setLevel(logging.ERROR)\n",
    "\n",
    "from dask.distributed import Client\n",
    "client = Client()\n",
    "client"
   ]
  },
  {
   "cell_type": "code",
   "execution_count": null,
   "id": "8186880f-09ac-4eb2-b388-cd6612dc92a5",
   "metadata": {},
   "outputs": [],
   "source": [
    "db = '/scratch/x77/db6174/access-om2/archive/databases/cc_database_param_kpp_extended2.db'\n",
    "session = cc.database.create_session(db)\n",
    "expt = '025deg_jra55_ryf_param_kpp_extended2'"
   ]
  },
  {
   "cell_type": "code",
   "execution_count": null,
   "id": "41c392a9-8a6a-4818-8ccb-e4423e86361a",
   "metadata": {},
   "outputs": [],
   "source": [
    "area_t = cc.querying.getvar(expt = expt, session = session, variable = 'area_t', n = -1)\n",
    "T = cc.querying.getvar(expt = expt, session = session, variable = 'temp', n = -1)\n",
    "T = T.isel(st_ocean = 1).isel(time = 1)"
   ]
  },
  {
   "cell_type": "code",
   "execution_count": null,
   "id": "23773628-af69-43bb-b00d-76dc8c43a66d",
   "metadata": {},
   "outputs": [],
   "source": [
    "nc_file = '/scratch/x77/db6174/025deg_inputs/flux_forced_uniform_heat/heat_mask.nc'\n",
    "#nc_dataset = Dataset(nc_file, mode = 'r')\n",
    "mask_ds = xr.open_dataset(nc_file)\n",
    "mask = mask_ds.mask\n",
    "\n",
    "area_t = (area_t*T)/T"
   ]
  },
  {
   "cell_type": "code",
   "execution_count": null,
   "id": "8bc9dd7d-bbe3-4fd9-9ed5-e19198d77c63",
   "metadata": {},
   "outputs": [],
   "source": [
    "mask_int = (mask*area_t).sum(dim = ['yt_ocean','xt_ocean'])#/area_t.sum(dim = ['yt_ocean','xt_ocean'])\n",
    "mask_int.values"
   ]
  },
  {
   "cell_type": "code",
   "execution_count": null,
   "id": "845fd21b-a603-4d9c-857e-729c0a60f0e1",
   "metadata": {},
   "outputs": [],
   "source": [
    "mask.plot()"
   ]
  },
  {
   "cell_type": "code",
   "execution_count": null,
   "id": "ae886a66-faee-46fd-b490-b8aade877758",
   "metadata": {},
   "outputs": [],
   "source": [
    "mask_avg1 = (mask.sel(yt_ocean = slice(-90, -12))*area_t).sum(dim = ['yt_ocean','xt_ocean'])/area_t.sum(dim = ['yt_ocean','xt_ocean'])\n",
    "mask_avg2 = (mask.sel(yt_ocean = slice( 12,  90))*area_t).sum(dim = ['yt_ocean','xt_ocean'])/area_t.sum(dim = ['yt_ocean','xt_ocean'])\n",
    "\n",
    "mask_avg = 0.5*(mask_avg1 + mask_avg2)"
   ]
  },
  {
   "cell_type": "code",
   "execution_count": null,
   "id": "6d4ac91f-e7a3-423c-9286-3c23c7830c5f",
   "metadata": {},
   "outputs": [],
   "source": [
    "xt = np.arange(0, 1440)\n",
    "yt = np.arange(0, 1080)\n",
    "\n",
    "Y, X = np.meshgrid(yt,xt)\n",
    "\n",
    "dy = 50\n",
    "dyby2 = 25\n",
    "\n",
    "y_mid = 495\n",
    "width = 60\n",
    "\n",
    "mask_values = mask.values\n",
    "mask_values[y_mid - width:y_mid + width, :] = 0\n",
    "mask_values_new = mask.values\n",
    "\n",
    "i = 200\n",
    "j = 0\n",
    "while j < 1440:\n",
    "    i = 200\n",
    "    while i < 800:\n",
    "        if((mask_values_new[i, j]!=mask_values_new[i+1,j]) and (mask_values_new[i,j] == 1 or mask_values_new[i,j] == 0) and (mask_values_new[i+1,j] == 1 or mask_values_new[i+1,j] == 0)):\n",
    "            if(mask_values_new[i,j] == 1 and mask_values_new[i+1,j] == 0):\n",
    "                mask_values_new[i-dyby2:i+dyby2,j] = (1 + np.tanh((-yt[i-dyby2:i+dyby2] + i)/8))/2\n",
    "                i = i + 25\n",
    "            elif(mask_values_new[i,j] == 0 and mask_values_new[i+1,j] == 1):\n",
    "                mask_values_new[i-dyby2:i+dyby2,j] = (1 + np.tanh((yt[i-dyby2:i+dyby2] - i)/8))/2\n",
    "                i = i + 25\n",
    "        i = i + 1\n",
    "    j = j + 1"
   ]
  },
  {
   "cell_type": "code",
   "execution_count": null,
   "id": "52963a2b-90f6-4426-9930-c72dd37c6375",
   "metadata": {},
   "outputs": [],
   "source": [
    "mask_new_da = xr.DataArray(mask_values_new, coords = [mask.yt_ocean, mask.xt_ocean], dims = ['yt_ocean', 'xt_ocean'], name = 'mask', attrs = {'units':'none'})"
   ]
  },
  {
   "cell_type": "code",
   "execution_count": null,
   "id": "370e486c-3a1f-498f-b73d-741fa217ea2c",
   "metadata": {},
   "outputs": [],
   "source": [
    "mask_new_da.plot()"
   ]
  },
  {
   "cell_type": "code",
   "execution_count": null,
   "id": "7195e451-eabd-4ce7-a19c-851cf35b953f",
   "metadata": {},
   "outputs": [],
   "source": [
    "plt.figure(figsize = (10, 6))\n",
    "mask_new_da.sel(xt_ocean = 100, method = 'nearest').plot()\n",
    "plt.grid()\n",
    "plt.savefig('Figures/one_latitude_corrected.jpeg', bbox_inches = 'tight', dpi = 900, transparent=True)"
   ]
  },
  {
   "cell_type": "code",
   "execution_count": null,
   "id": "f1906859-8266-42bd-8eb3-ae7eff654329",
   "metadata": {},
   "outputs": [],
   "source": [
    "rho0 = 1026\n",
    "st = '2000-01-01'\n",
    "et = '2009-12-31'\n",
    "\n",
    "tx_trans = cc.querying.getvar(expt = expt, session = session, variable = 'tx_trans_int_z', frequency = '1 monthly').sel(time = slice(st, et))\n",
    "psi = -tx_trans.cumsum('yt_ocean').where(abs(tx_trans<=1.e20))/(rho0*1.e6)\n",
    "\n",
    "psi_acc = np.nanmin(psi.sel(xu_ocean = slice(-69, -67), yt_ocean = slice(-80, -55)).mean('time'))\n",
    "\n",
    "psi_g = psi.mean('time') - psi_acc\n",
    "psi_g = psi_g.rename('Barotropic Stream function')\n",
    "psi_g.attrs['long_name'] = 'Barotropic Stream function'\n",
    "psi_g.attrs['units'] = 'Sv'\n",
    "\n",
    "psi_g = psi_g.where(psi_g.yt_ocean > 0, -psi_g)\n",
    "\n",
    "# Grid (used for plotting)\n",
    "geolon_c = xr.open_dataset('/g/data/ik11/grids/ocean_grid_025.nc').geolon_c\n",
    "geolat_t = xr.open_dataset('/g/data/ik11/grids/ocean_grid_025.nc').geolat_t\n",
    "\n",
    "# Define the levels for the contourf\n",
    "lvls = np.arange(-80, 90, 10)\n",
    "\n",
    "fig = plt.figure(figsize = (12, 8))\n",
    "ax = fig.add_subplot(111, projection = ccrs.Robinson())\n",
    "\n",
    "# Add land features and gridlines\n",
    "ax.add_feature(cfeature.LAND, edgecolor = 'black', facecolor = 'gray', zorder = 2)\n",
    "ax.gridlines(color='grey', linestyle='--')\n",
    "\n",
    "ax.contour(geolon_c, geolat_t, mask_new_da, colors = 'black', levels = [-0.05, 0.05], transform=ccrs.PlateCarree(), add_colorbar=False)\n",
    "# Plot the barotropic stream function\n",
    "cf = ax.contourf(geolon_c, geolat_t, psi_g, levels = lvls, cmap = cm.cm.balance, extend = 'both',\n",
    "                 transform = ccrs.PlateCarree())\n",
    "\n",
    "# Add a colorbar\n",
    "cbar = fig.colorbar(cf, ax = ax, orientation = 'vertical', shrink = 0.5)\n",
    "cbar.set_label('Transport [Sv]', size = 18)\n",
    "ax.set_title('Barotropic streamfunction', size = 18)\n",
    "plt.savefig('Figures/heat_map_over_psi_corrected.jpeg', bbox_inches = 'tight', dpi = 900, transparent=True)"
   ]
  },
  {
   "cell_type": "code",
   "execution_count": null,
   "id": "3a093dfe-8b62-4e6b-8c22-b0a7e3492219",
   "metadata": {},
   "outputs": [],
   "source": [
    "# Grid (used for plotting)\n",
    "geolon_c = xr.open_dataset('/g/data/ik11/grids/ocean_grid_025.nc').geolon_c\n",
    "geolat_t = xr.open_dataset('/g/data/ik11/grids/ocean_grid_025.nc').geolat_t\n",
    "\n",
    "# Define the levels for the contourf\n",
    "lvls = np.linspace(-1.5, 1.5, 21)\n",
    "\n",
    "fig = plt.figure(figsize = (12, 8))\n",
    "ax = fig.add_subplot(111, projection = ccrs.Robinson())\n",
    "\n",
    "# Add land features and gridlines\n",
    "ax.add_feature(cfeature.LAND, edgecolor = 'black', facecolor = 'gray', zorder = 2)\n",
    "ax.gridlines(color='grey', linestyle='--')\n",
    "\n",
    "# Plot the barotropic stream function\n",
    "cf = ax.contourf(geolon_c, geolat_t, mask_new_da, levels = lvls, cmap = cm.cm.balance, extend = 'both',\n",
    "                 transform = ccrs.PlateCarree())\n",
    "\n",
    "# Adding xticks\n",
    "# Add a colorbar\n",
    "cbar = fig.colorbar(cf, ax = ax, orientation = 'vertical', shrink = 0.5)\n",
    "cbar.set_label('Heat flux mask', size = 18)\n",
    "ax.set_title('Heat flux mask', size = 18)\n",
    "\n",
    "plt.savefig('Figures/heat_map_corrected.jpeg', bbox_inches = 'tight', dpi = 900, transparent=True)"
   ]
  },
  {
   "cell_type": "code",
   "execution_count": null,
   "id": "634b4f06-1837-436e-baa7-0823a378af24",
   "metadata": {},
   "outputs": [],
   "source": [
    "mask_int_new = (mask_new_da*area_t).sum(dim = ['yt_ocean','xt_ocean'])#/area_t.sum(dim = ['yt_ocean','xt_ocean'])\n",
    "mask_int_new.values"
   ]
  },
  {
   "cell_type": "code",
   "execution_count": null,
   "id": "7b475b74-8f74-461d-a725-672576117360",
   "metadata": {},
   "outputs": [],
   "source": [
    "mask_avg_new = (mask_new_da.sum(dim = ['yt_ocean','xt_ocean'])/area_t.sum(dim = ['yt_ocean','xt_ocean']))\n",
    "mask_avg_new.values"
   ]
  },
  {
   "cell_type": "code",
   "execution_count": null,
   "id": "807b6ad7-f93e-4e6f-9019-9941109b3bdd",
   "metadata": {},
   "outputs": [],
   "source": []
  }
 ],
 "metadata": {
  "kernelspec": {
   "display_name": "Python 3 (ipykernel)",
   "language": "python",
   "name": "python3"
  },
  "language_info": {
   "codemirror_mode": {
    "name": "ipython",
    "version": 3
   },
   "file_extension": ".py",
   "mimetype": "text/x-python",
   "name": "python",
   "nbconvert_exporter": "python",
   "pygments_lexer": "ipython3",
   "version": "3.9.9"
  }
 },
 "nbformat": 4,
 "nbformat_minor": 5
}
