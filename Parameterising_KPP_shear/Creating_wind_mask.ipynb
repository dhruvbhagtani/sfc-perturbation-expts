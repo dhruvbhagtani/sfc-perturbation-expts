{
 "cells": [
  {
   "cell_type": "code",
   "execution_count": 1,
   "id": "6fa21d6f-45c1-4f99-a2c7-4dc1da09f284",
   "metadata": {},
   "outputs": [],
   "source": [
    "import cartopy.crs as ccrs\n",
    "import cosima_cookbook as cc\n",
    "import cartopy.crs as ccrs\n",
    "import cosima_cookbook as cc\n",
    "import cartopy.feature as cft\n",
    "from cartopy.mpl.gridliner import LONGITUDE_FORMATTER, LATITUDE_FORMATTER\n",
    "import cmocean as cm\n",
    "from dask.distributed import Client\n",
    "import matplotlib.path as mpath\n",
    "import matplotlib.pyplot as plt\n",
    "import numpy as np\n",
    "import xarray as xr\n",
    "from matplotlib import rc\n",
    "rc('animation', html='html5')\n",
    "\n",
    "# Avoid the Runtime errors in true_divide encountered when trying to divide by zero\n",
    "import warnings\n",
    "warnings.filterwarnings('ignore', category = RuntimeWarning)\n",
    "\n",
    "import netCDF4 as nc\n",
    "import datetime, time, os, sys\n",
    "from glob import glob\n",
    "import matplotlib.gridspec as gridspec\n",
    "import matplotlib.animation as animation\n",
    "from matplotlib.collections import LineCollection\n",
    "\n",
    "# matplotlib stuff:\n",
    "import matplotlib.pyplot as plt\n",
    "import matplotlib.colors as colors\n",
    "import matplotlib\n",
    "from mpl_toolkits.mplot3d import axes3d\n",
    "%matplotlib inline\n",
    "matplotlib.rcParams['mathtext.fontset'] = 'stix'\n",
    "matplotlib.rcParams['font.family'] = 'STIXGeneral'\n",
    "matplotlib.rcParams['lines.linewidth'] = 2.0"
   ]
  },
  {
   "cell_type": "code",
   "execution_count": 2,
   "id": "7eac8b79-3059-4c94-9790-4b776313e794",
   "metadata": {},
   "outputs": [],
   "source": [
    "from netCDF4 import Dataset"
   ]
  },
  {
   "cell_type": "code",
   "execution_count": 3,
   "id": "00f4b907-f904-40ac-a4bb-e6248f0f4f21",
   "metadata": {},
   "outputs": [
    {
     "data": {
      "text/html": [
       "<table style=\"border: 2px solid white;\">\n",
       "<tr>\n",
       "<td style=\"vertical-align: top; border: 0px solid white\">\n",
       "<h3 style=\"text-align: left;\">Client</h3>\n",
       "<ul style=\"text-align: left; list-style: none; margin: 0; padding: 0;\">\n",
       "  <li><b>Scheduler: </b>tcp://127.0.0.1:33813</li>\n",
       "  <li><b>Dashboard: </b><a href='/proxy/8787/status' target='_blank'>/proxy/8787/status</a></li>\n",
       "</ul>\n",
       "</td>\n",
       "<td style=\"vertical-align: top; border: 0px solid white\">\n",
       "<h3 style=\"text-align: left;\">Cluster</h3>\n",
       "<ul style=\"text-align: left; list-style:none; margin: 0; padding: 0;\">\n",
       "  <li><b>Workers: </b>1</li>\n",
       "  <li><b>Cores: </b>1</li>\n",
       "  <li><b>Memory: </b>4.00 GiB</li>\n",
       "</ul>\n",
       "</td>\n",
       "</tr>\n",
       "</table>"
      ],
      "text/plain": [
       "<Client: 'tcp://127.0.0.1:33813' processes=1 threads=1, memory=4.00 GiB>"
      ]
     },
     "execution_count": 3,
     "metadata": {},
     "output_type": "execute_result"
    }
   ],
   "source": [
    "from dask.distributed import Client\n",
    "client = Client()\n",
    "client"
   ]
  },
  {
   "cell_type": "markdown",
   "id": "2a61d9fc-a7fb-47c1-a2f5-626a5404f408",
   "metadata": {},
   "source": [
    "This notebook creates a mask for wind to be used in the momentum equations in MoM. Specifically, this mask is used to change Velocity%smf in the MoM."
   ]
  },
  {
   "cell_type": "markdown",
   "id": "4762f570-b1fc-4bee-ad4f-5e76227ce10a",
   "metadata": {},
   "source": [
    "## Creating mask"
   ]
  },
  {
   "cell_type": "markdown",
   "id": "f1a4938b-12b8-4982-968c-0da7d759327d",
   "metadata": {},
   "source": [
    "The next two cells take data from a file known as topog.nc, which is an input in the MoM. We create a mask with the same dimensions and coordinates as present in topog.nc to maintain consistency."
   ]
  },
  {
   "cell_type": "code",
   "execution_count": 4,
   "id": "ac18dd8f-e56f-40db-a782-329e0878e8af",
   "metadata": {},
   "outputs": [],
   "source": [
    "nc_file = '/g/data/ik11/inputs/access-om2/input_20201102/mom_1deg/topog.nc'\n",
    "nc_dataset = Dataset(nc_file, mode = 'r')\n",
    "topog_dataset = xr.open_dataset(xr.backends.NetCDF4DataStore(nc_dataset))\n",
    "topog = topog_dataset.depth\n",
    "\n",
    "nx, = topog.nx.shape\n",
    "ny, = topog.ny.shape\n",
    "\n",
    "nc_file = '/g/data/ik11/inputs/access-om2/input_20201102/mom_1deg/ocean_temp_salt.res.nc'\n",
    "nc_dataset = Dataset(nc_file, mode = 'r')\n",
    "ocean_dataset = xr.open_dataset(xr.backends.NetCDF4DataStore(nc_dataset))\n",
    "\n",
    "x = ocean_dataset.GRID_X_T\n",
    "y = ocean_dataset.GRID_Y_T\n",
    "X, Y = np.meshgrid(x, y)"
   ]
  },
  {
   "cell_type": "markdown",
   "id": "fe3bc834-9ca8-472f-9211-24872ef2d7a5",
   "metadata": {},
   "source": [
    "### Which one works?\n",
    "(2, ny, nx) -> ✅\n",
    "\n",
    "(2, nx, ny) -> ❌\n",
    "\n",
    "(nx, ny, 2) -> ❌\n",
    "\n",
    "(nx, 2, ny) -> ❌\n",
    "\n",
    "(ny, nx, 2) -> ❌\n",
    "\n",
    "(ny, 2, nx) -> ❌"
   ]
  },
  {
   "cell_type": "code",
   "execution_count": 5,
   "id": "13789e7e-0d28-4380-821d-3cb38aff6dcf",
   "metadata": {},
   "outputs": [],
   "source": [
    "# State the region where you would like to have winds\n",
    "\n",
    "region = 'Southern Ocean and NADW region'\n",
    "dy = 5\n",
    "dx = 5"
   ]
  },
  {
   "cell_type": "code",
   "execution_count": 6,
   "id": "896eca35-598a-4827-9a54-635a1d089678",
   "metadata": {},
   "outputs": [],
   "source": [
    "mask_array = np.ones(((ny, nx)))\n",
    "\n",
    "#mask_tanh = xr.DataArray(mask_array,  coords = [y, x], dims = ['lat', 'lon'], name = 'mask', attrs = {'units':'none'})\n",
    "\n",
    "#mask_da = xr.DataArray(mask_array,  coords = [topog.ny, topog.nx],  \n",
    "#                           dims = ['ny', 'nx'], name = 'mask', attrs = {'units':'none'})\n",
    "\n",
    "# Mask is performed and boundaries are treated with a tan hyperbolic function to reduce biases due to wind stress curl\n",
    "\n",
    "if(region == 'everywhere'):\n",
    "    mask_tanh = mask_array*1\n",
    "    mask_da = xr.DataArray(mask_tanh, coords = [y, x], dims = ['yu_ocean', 'xu_ocean'], name = 'mask', attrs = {'units':'none'})\n",
    "elif(region == 'none'):\n",
    "    mask_tanh = mask_array*0\n",
    "    mask_da = xr.DataArray(mask_tanh, coords = [y, x], dims = ['yu_ocean', 'xu_ocean'], name = 'mask', attrs = {'units':'none'})\n",
    "elif(region == 'Southern Hemisphere'):\n",
    "    y_max = 0\n",
    "    mask_tanh = 0.5 * np.tanh((-Y + y_max)/dy) + 0.5\n",
    "    mask_da = xr.DataArray(mask_tanh, coords = [y, x], dims = ['yu_ocean', 'xu_ocean'], name = 'mask', attrs = {'units':'none'})\n",
    "elif(region == 'Northern Hemisphere'):\n",
    "    y_max = 0\n",
    "    mask_tanh = 0.5 * np.tanh((Y - y_max)/dy) + 0.5\n",
    "    mask_da = xr.DataArray(mask_tanh, coords = [y, x], dims = ['yu_ocean', 'xu_ocean'], name = 'mask', attrs = {'units':'none'})\n",
    "elif(region == 'Pacific Ocean'):\n",
    "    y_min, y_max = 15, 60\n",
    "    x_min, x_max = -250, -100\n",
    "    mask_tanh = (0.5 * np.tanh((-Y + y_min)/dy) + 0.5) + (0.5 * np.tanh((Y - y_max)/dy) + 0.5)\n",
    "    mask_da1 = xr.DataArray(mask_tanh, coords = [y, x], dims = ['yu_ocean', 'xu_ocean'], name = 'mask', attrs = {'units':'none'})\n",
    "    \n",
    "    mask_tanh = (0.5 * np.tanh((-X + x_min)/dx) + 0.5) + (0.5 * np.tanh((X - x_max)/dx) + 0.5)\n",
    "    mask_da2 = xr.DataArray(mask_tanh, coords = [y, x], dims = ['yu_ocean', 'xu_ocean'], name = 'mask', attrs = {'units':'none'})\n",
    "    \n",
    "    mask_da = mask_da1 + mask_da2\n",
    "    mask_da = mask_da.where(mask_da <= 1, 1)\n",
    "elif(region == 'Southern Ocean and NADW region'):\n",
    "    y_min, y_max = 0, 50\n",
    "    mask_tanh = (0.5 * np.tanh((Y - y_max)/dy) + 0.5) + (0.5 * np.tanh((-Y + y_min)/dy) + 0.5)\n",
    "    mask_da = xr.DataArray(mask_tanh, coords = [y, x], dims = ['yu_ocean', 'xu_ocean'], name = 'mask', attrs = {'units':'none'})"
   ]
  },
  {
   "cell_type": "code",
   "execution_count": 7,
   "id": "10ec3d8a-73ef-4310-91e8-cd0d01077921",
   "metadata": {},
   "outputs": [
    {
     "data": {
      "text/plain": [
       "Text(0.5, 1.0, 'Latitudinal distribution of the wind stress mask')"
      ]
     },
     "execution_count": 7,
     "metadata": {},
     "output_type": "execute_result"
    },
    {
     "data": {
      "image/png": "[encoded data removed]",
      "text/plain": [
       "<Figure size 1440x360 with 3 Axes>"
      ]
     },
     "metadata": {
      "needs_background": "light"
     },
     "output_type": "display_data"
    }
   ],
   "source": [
    "fig, axes = plt.subplots(ncols = 2, figsize = (20, 5))\n",
    "\n",
    "mask_da.plot(ax = axes[0])\n",
    "plt.title('Spatial distribution of the wind stress mask')\n",
    "\n",
    "mask_da.sel(xu_ocean = -200, method = 'nearest').plot(ax = axes[1])\n",
    "plt.xticks(np.linspace(-90, 90, 19))\n",
    "plt.title('Latitudinal distribution of the wind stress mask')"
   ]
  },
  {
   "cell_type": "code",
   "execution_count": 8,
   "id": "041ede45-a975-4366-a740-ab9126c86bd6",
   "metadata": {},
   "outputs": [],
   "source": [
    "mask_ds = mask_da.to_dataset()\n",
    "mask_ds.to_netcdf(path = '/scratch/x77/db6174/1deg_inputs/stress_except_NANP/wind_mask.nc', mode = 'w', format = \"NETCDF4\", engine = \"netcdf4\")"
   ]
  },
  {
   "cell_type": "markdown",
   "id": "7fef0641-a633-4925-a946-e32a5fee89fe",
   "metadata": {},
   "source": [
    "## Extra stuff"
   ]
  },
  {
   "cell_type": "markdown",
   "id": "465865bf-310f-4724-9c6d-c967fbb1543c",
   "metadata": {},
   "source": [
    "In this section, we take wind data in x and y directions as inputs. Instead of creating a mask, these variables can be changed too. However, if we change them, the boundary layer depth will also feel the corresponding changes, which we do not want."
   ]
  },
  {
   "cell_type": "code",
   "execution_count": null,
   "id": "3db5753a-2149-48be-9534-28e80faf12e0",
   "metadata": {},
   "outputs": [],
   "source": [
    "nc_file = '/g/data/ik11/inputs/JRA-55/RYF/v1-4/RYF.uas.1990_1991.nc'\n",
    "nc_dataset = Dataset(nc_file, mode = 'r')\n",
    "u_wind_dataset = xr.open_dataset(xr.backends.NetCDF4DataStore(nc_dataset))\n",
    "uas = u_wind_dataset.uas"
   ]
  },
  {
   "cell_type": "code",
   "execution_count": null,
   "id": "c34c0292-8eff-4492-86f5-58aecfa33653",
   "metadata": {},
   "outputs": [],
   "source": [
    "nc_file = '/g/data/ik11/inputs/JRA-55/RYF/v1-4/RYF.vas.1990_1991.nc'\n",
    "nc_dataset = Dataset(nc_file, mode = 'r')\n",
    "v_wind_dataset = xr.open_dataset(xr.backends.NetCDF4DataStore(nc_dataset))\n",
    "vas = v_wind_dataset.vas"
   ]
  },
  {
   "cell_type": "code",
   "execution_count": 11,
   "id": "9c345cab-4d85-465e-97ad-d97595365348",
   "metadata": {},
   "outputs": [],
   "source": [
    "nc_file = '/g/data/ik11/inputs/access-om2/input_20200530/mom_025deg/ocean_temp_salt.res.nc'\n",
    "nc_dataset = Dataset(nc_file, mode = 'r')\n",
    "grid_dataset = xr.open_dataset(xr.backends.NetCDF4DataStore(nc_dataset))\n",
    "#grid = grid_dataset.depth"
   ]
  },
  {
   "cell_type": "code",
   "execution_count": null,
   "id": "e155cefa-50bb-406e-aae2-acb1ab0667e4",
   "metadata": {},
   "outputs": [],
   "source": []
  }
 ],
 "metadata": {
  "kernelspec": {
   "display_name": "Python 3",
   "language": "python",
   "name": "python3"
  },
  "language_info": {
   "codemirror_mode": {
    "name": "ipython",
    "version": 3
   },
   "file_extension": ".py",
   "mimetype": "text/x-python",
   "name": "python",
   "nbconvert_exporter": "python",
   "pygments_lexer": "ipython3",
   "version": "3.8.10"
  }
 },
 "nbformat": 4,
 "nbformat_minor": 5
}
